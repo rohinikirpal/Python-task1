{
 "cells": [
  {
   "cell_type": "markdown",
   "id": "23f2650e-fbe4-4b4b-b699-95b3effd001b",
   "metadata": {},
   "source": [
    "# Replace()"
   ]
  },
  {
   "cell_type": "code",
   "execution_count": 3,
   "id": "3a72e875-b068-42bc-abc2-7ed5e46ce695",
   "metadata": {},
   "outputs": [
    {
     "name": "stdout",
     "output_type": "stream",
     "text": [
      "School are open\n"
     ]
    }
   ],
   "source": [
    "str1 = 'School are open'\n",
    "\n",
    "print(str1)"
   ]
  },
  {
   "cell_type": "code",
   "execution_count": 5,
   "id": "8265f959-8516-4d90-a8b0-705981a1f7ca",
   "metadata": {},
   "outputs": [
    {
     "name": "stdout",
     "output_type": "stream",
     "text": [
      "classes are open\n"
     ]
    }
   ],
   "source": [
    "print(f'{str1}'.replace ('School' ,'classes'))"
   ]
  },
  {
   "cell_type": "code",
   "execution_count": null,
   "id": "093a456e-145d-43be-8f90-764c2190374e",
   "metadata": {},
   "outputs": [],
   "source": []
  },
  {
   "cell_type": "markdown",
   "id": "5ad1a0ae-1bd3-4d88-8e06-5b44d5e8401e",
   "metadata": {},
   "source": [
    "# Capitalize()"
   ]
  },
  {
   "cell_type": "code",
   "execution_count": 7,
   "id": "697d22d8-93ef-49f7-bedf-67376ad5bd7c",
   "metadata": {},
   "outputs": [
    {
     "name": "stdout",
     "output_type": "stream",
     "text": [
      "my name is rohini\n"
     ]
    }
   ],
   "source": [
    "str1 = 'my name is rohini'\n",
    "\n",
    "print(str1)"
   ]
  },
  {
   "cell_type": "code",
   "execution_count": 9,
   "id": "2aea1b7f-af18-4ba7-bf65-c327ddeb0947",
   "metadata": {},
   "outputs": [
    {
     "name": "stdout",
     "output_type": "stream",
     "text": [
      "My name is rohini\n"
     ]
    }
   ],
   "source": [
    "print(f'{str1}'.capitalize())\n"
   ]
  },
  {
   "cell_type": "code",
   "execution_count": 11,
   "id": "db09c737-9c01-4cdd-9c62-35ebaa491f63",
   "metadata": {},
   "outputs": [
    {
     "name": "stdout",
     "output_type": "stream",
     "text": [
      "my name is Rohini\n"
     ]
    }
   ],
   "source": [
    "str2 = 'my name is Rohini'\n",
    "\n",
    "print(str2)"
   ]
  },
  {
   "cell_type": "code",
   "execution_count": 13,
   "id": "ac04211a-4114-4cdb-af8d-846732f2f332",
   "metadata": {},
   "outputs": [
    {
     "name": "stdout",
     "output_type": "stream",
     "text": [
      "My name is rohini\n"
     ]
    }
   ],
   "source": [
    "print(f'{str2}'.capitalize())"
   ]
  },
  {
   "cell_type": "code",
   "execution_count": null,
   "id": "fa03866f-c653-4850-9c1e-87a506eb70b1",
   "metadata": {},
   "outputs": [],
   "source": []
  },
  {
   "cell_type": "markdown",
   "id": "411c99c6-254f-416b-91fe-f734eb1fcc66",
   "metadata": {},
   "source": [
    "# Casefold()"
   ]
  },
  {
   "cell_type": "code",
   "execution_count": 17,
   "id": "3e470f3c-f50a-4e87-97f0-084aa0bfc3d0",
   "metadata": {},
   "outputs": [
    {
     "name": "stdout",
     "output_type": "stream",
     "text": [
      "I AM A GRAPHIC DESIGNER\n"
     ]
    }
   ],
   "source": [
    "str1 = 'I AM A GRAPHIC DESIGNER'\n",
    "\n",
    "print(str1)"
   ]
  },
  {
   "cell_type": "code",
   "execution_count": 19,
   "id": "4a2685c9-31aa-4c59-a9ca-74a6ba8d74a1",
   "metadata": {},
   "outputs": [
    {
     "name": "stdout",
     "output_type": "stream",
     "text": [
      "i am a graphic designer\n"
     ]
    }
   ],
   "source": [
    "print(f'{str1}'.casefold())"
   ]
  },
  {
   "cell_type": "code",
   "execution_count": null,
   "id": "1db896d0-d3f4-4743-a026-d0f2651c3f70",
   "metadata": {},
   "outputs": [],
   "source": []
  },
  {
   "cell_type": "markdown",
   "id": "9ead7791-597c-46a8-b0f6-dd9085bc6d1e",
   "metadata": {},
   "source": [
    "# center()"
   ]
  },
  {
   "cell_type": "code",
   "execution_count": 21,
   "id": "f5ab0f05-ef53-4a15-9022-404beab17410",
   "metadata": {},
   "outputs": [
    {
     "name": "stdout",
     "output_type": "stream",
     "text": [
      "Analytics\n"
     ]
    }
   ],
   "source": [
    "str = 'Analytics'\n",
    "print(str)"
   ]
  },
  {
   "cell_type": "code",
   "execution_count": 23,
   "id": "4377a75f-bf31-47b3-866c-7eba434c94a6",
   "metadata": {},
   "outputs": [
    {
     "name": "stdout",
     "output_type": "stream",
     "text": [
      "          Analytics           \n"
     ]
    }
   ],
   "source": [
    "print(f'{str}'.center(30))"
   ]
  },
  {
   "cell_type": "code",
   "execution_count": null,
   "id": "f141da1f-d353-47af-9415-9b16679091a0",
   "metadata": {},
   "outputs": [],
   "source": []
  },
  {
   "cell_type": "code",
   "execution_count": 25,
   "id": "bfcf2efe-e1c3-4ab1-921f-5d5227b42d57",
   "metadata": {},
   "outputs": [
    {
     "name": "stdout",
     "output_type": "stream",
     "text": [
      "Analytics\n"
     ]
    }
   ],
   "source": [
    "str1 = 'Analytics'\n",
    "\n",
    "print(str1)"
   ]
  },
  {
   "cell_type": "code",
   "execution_count": 29,
   "id": "8e34b7d7-53f3-400d-aba4-4b1732aa4ad7",
   "metadata": {},
   "outputs": [
    {
     "name": "stdout",
     "output_type": "stream",
     "text": [
      "RRRRRRRRRRAnalyticsRRRRRRRRRRR\n"
     ]
    }
   ],
   "source": [
    "print(f'{str1}'.center(30,\"R\"))"
   ]
  },
  {
   "cell_type": "code",
   "execution_count": null,
   "id": "a82b9dc1-0a5e-4c62-8736-fe908012b858",
   "metadata": {},
   "outputs": [],
   "source": []
  },
  {
   "cell_type": "markdown",
   "id": "83d2e51a-1e07-49d8-96d2-97ab46f08f8a",
   "metadata": {},
   "source": [
    "# count()"
   ]
  },
  {
   "cell_type": "code",
   "execution_count": 31,
   "id": "b9b0588f-b72c-4f82-8dda-c4746cb290ff",
   "metadata": {},
   "outputs": [
    {
     "name": "stdout",
     "output_type": "stream",
     "text": [
      "Data Analytics Course\n"
     ]
    }
   ],
   "source": [
    "str1 = 'Data Analytics Course'\n",
    "print(str1)"
   ]
  },
  {
   "cell_type": "code",
   "execution_count": 33,
   "id": "d90ccdfa-678e-4ea4-8e33-8dc3827c7ed2",
   "metadata": {},
   "outputs": [
    {
     "name": "stdout",
     "output_type": "stream",
     "text": [
      "1\n"
     ]
    }
   ],
   "source": [
    "print(f'{str1}'.count('Course'))"
   ]
  },
  {
   "cell_type": "code",
   "execution_count": null,
   "id": "3a0bd4b0-9da8-4d1f-bd71-4b9230004702",
   "metadata": {},
   "outputs": [],
   "source": []
  },
  {
   "cell_type": "markdown",
   "id": "279a89f2-efc6-4748-8b4b-e673d16475ca",
   "metadata": {},
   "source": [
    "# Encode()"
   ]
  },
  {
   "cell_type": "code",
   "execution_count": 47,
   "id": "7e3f8386-7cde-4e53-bb39-4b00dc8d1e31",
   "metadata": {},
   "outputs": [
    {
     "name": "stdout",
     "output_type": "stream",
     "text": [
      "Arc is a institute\n"
     ]
    }
   ],
   "source": [
    "str = 'Arc is a institute'\n",
    "print(str)"
   ]
  },
  {
   "cell_type": "code",
   "execution_count": 49,
   "id": "4eb588e3-7e95-4877-ba8b-2a15de2d3889",
   "metadata": {},
   "outputs": [
    {
     "name": "stdout",
     "output_type": "stream",
     "text": [
      "b'Arc is a institute'\n"
     ]
    }
   ],
   "source": [
    "print(f'{str}'.encode())"
   ]
  },
  {
   "cell_type": "code",
   "execution_count": null,
   "id": "0c7d3db4-17b0-4d26-8789-fbccb457a438",
   "metadata": {},
   "outputs": [],
   "source": []
  },
  {
   "cell_type": "markdown",
   "id": "317cdfdc-6dfd-4ba8-944b-b2fe550da607",
   "metadata": {},
   "source": [
    "# Endswith()"
   ]
  },
  {
   "cell_type": "code",
   "execution_count": 51,
   "id": "9edd6d6e-777e-469a-a1a1-d9d3d29d87da",
   "metadata": {},
   "outputs": [
    {
     "name": "stdout",
     "output_type": "stream",
     "text": [
      "Data analyst use Power bi.\n"
     ]
    }
   ],
   "source": [
    "str = 'Data analyst use Power bi.'\n",
    "\n",
    "print(str)"
   ]
  },
  {
   "cell_type": "code",
   "execution_count": 53,
   "id": "c34c0561-8527-43f9-b5b2-b4aa9e476850",
   "metadata": {},
   "outputs": [
    {
     "name": "stdout",
     "output_type": "stream",
     "text": [
      "True\n"
     ]
    }
   ],
   "source": [
    "print(f'{str}'.endswith('.'))"
   ]
  },
  {
   "cell_type": "code",
   "execution_count": 57,
   "id": "1b8d24b2-626b-4ba6-aecb-fbb674aa7eae",
   "metadata": {},
   "outputs": [
    {
     "name": "stdout",
     "output_type": "stream",
     "text": [
      "True\n"
     ]
    }
   ],
   "source": [
    "print(f'{str}'.endswith(\" Power bi.\"))"
   ]
  },
  {
   "cell_type": "code",
   "execution_count": null,
   "id": "80d6d9e7-384f-4b9e-9ef1-2ca41aebc2da",
   "metadata": {},
   "outputs": [],
   "source": []
  },
  {
   "cell_type": "markdown",
   "id": "e8ffee19-708e-43e9-ae10-661b3a81f060",
   "metadata": {},
   "source": [
    "# Expandtabs()"
   ]
  },
  {
   "cell_type": "code",
   "execution_count": 59,
   "id": "de289a13-a060-4dfe-93a9-110c33a9755d",
   "metadata": {},
   "outputs": [
    {
     "name": "stdout",
     "output_type": "stream",
     "text": [
      "R\\oh\\in\\ib\\hu\te\n"
     ]
    }
   ],
   "source": [
    "str = 'R\\oh\\in\\ib\\hu\\te'\n",
    "print(str)"
   ]
  },
  {
   "cell_type": "code",
   "execution_count": 61,
   "id": "3199ca30-1d22-4193-ac37-f7c92863f73a",
   "metadata": {},
   "outputs": [
    {
     "name": "stdout",
     "output_type": "stream",
     "text": [
      "R\\oh\\in\\ib\\hu e\n"
     ]
    }
   ],
   "source": [
    "print(f'{str}'.expandtabs(2))"
   ]
  },
  {
   "cell_type": "code",
   "execution_count": null,
   "id": "e00f2038-6bb2-4ccb-ad95-b4a51513338e",
   "metadata": {},
   "outputs": [],
   "source": []
  },
  {
   "cell_type": "markdown",
   "id": "93c2f899-d392-4480-9e8d-b22f34c32425",
   "metadata": {},
   "source": [
    "# Find()"
   ]
  },
  {
   "cell_type": "code",
   "execution_count": 63,
   "id": "2ffbf45a-2d5e-4616-b210-e9b01afe4be1",
   "metadata": {},
   "outputs": [
    {
     "name": "stdout",
     "output_type": "stream",
     "text": [
      "Rohini is a data analyst\n"
     ]
    }
   ],
   "source": [
    "str = 'Rohini is a data analyst'\n",
    "\n",
    "print(str)"
   ]
  },
  {
   "cell_type": "code",
   "execution_count": 65,
   "id": "9a0842af-e95d-406f-855e-b3478f4790bc",
   "metadata": {},
   "outputs": [
    {
     "name": "stdout",
     "output_type": "stream",
     "text": [
      "7\n"
     ]
    }
   ],
   "source": [
    "print(f'{str}'.find('is'))"
   ]
  },
  {
   "cell_type": "code",
   "execution_count": 67,
   "id": "361e17f7-9cb9-48b8-9654-a81435102c7a",
   "metadata": {},
   "outputs": [
    {
     "name": "stdout",
     "output_type": "stream",
     "text": [
      "12\n"
     ]
    }
   ],
   "source": [
    "print(f'{str}'.find('data'))\n"
   ]
  },
  {
   "cell_type": "code",
   "execution_count": 69,
   "id": "ccc1612f-7ae5-4a16-91b4-94272786b845",
   "metadata": {},
   "outputs": [
    {
     "name": "stdout",
     "output_type": "stream",
     "text": [
      "7\n"
     ]
    }
   ],
   "source": [
    "print(f'{str}'.find('is',5,20))\n"
   ]
  },
  {
   "cell_type": "code",
   "execution_count": 71,
   "id": "c34e7542-ed51-47a4-8875-0d2c4dc93f87",
   "metadata": {},
   "outputs": [
    {
     "name": "stdout",
     "output_type": "stream",
     "text": [
      "21\n"
     ]
    }
   ],
   "source": [
    "print(f'{str}'.find('y'))\n",
    "\n"
   ]
  },
  {
   "cell_type": "code",
   "execution_count": null,
   "id": "8d208405-12f0-4475-9efc-a54b40a774de",
   "metadata": {},
   "outputs": [],
   "source": []
  },
  {
   "cell_type": "markdown",
   "id": "f1e5daf4-84f5-4efb-b140-8bca58ec166c",
   "metadata": {},
   "source": [
    "# format()"
   ]
  },
  {
   "cell_type": "code",
   "execution_count": 112,
   "id": "434b0b85-f560-4573-b463-6d18954953c1",
   "metadata": {},
   "outputs": [
    {
     "name": "stdout",
     "output_type": "stream",
     "text": [
      "only {price:.2f} dollers\n"
     ]
    }
   ],
   "source": [
    "str = 'only {price:.2f} dollers'\n",
    "print(str)"
   ]
  },
  {
   "cell_type": "code",
   "execution_count": 114,
   "id": "0c1dcd96-d7da-4e74-ac4d-e02e09b1b13c",
   "metadata": {},
   "outputs": [
    {
     "name": "stdout",
     "output_type": "stream",
     "text": [
      "only 20.00 dollers\n"
     ]
    }
   ],
   "source": [
    "print(f'{str}'.format(price = 20))"
   ]
  },
  {
   "cell_type": "markdown",
   "id": "ba909ec6-d16b-4493-927e-5043bf2f0928",
   "metadata": {},
   "source": [
    "### the use of := (:=6) 5 is use for space"
   ]
  },
  {
   "cell_type": "code",
   "execution_count": 73,
   "id": "70844edd-e8b1-4b16-ae50-851021feb22b",
   "metadata": {},
   "outputs": [
    {
     "name": "stdout",
     "output_type": "stream",
     "text": [
      "todays temperature is {:=6} degree celcious\n"
     ]
    }
   ],
   "source": [
    "str = 'todays temperature is {:=6} degree celcious'\n",
    "print(str)"
   ]
  },
  {
   "cell_type": "code",
   "execution_count": 75,
   "id": "66ce2be9-9aec-4ce1-8969-9f3fd4aea5c9",
   "metadata": {},
   "outputs": [
    {
     "name": "stdout",
     "output_type": "stream",
     "text": [
      "todays temperature is      7 degree celcious\n"
     ]
    }
   ],
   "source": [
    "print(f'{str}'.format(7))"
   ]
  },
  {
   "cell_type": "markdown",
   "id": "5eec4bca-571a-4c1c-9399-2404a80bc2c2",
   "metadata": {},
   "source": [
    "### Use \"+\" to always indicate if the number is positive or negative\n"
   ]
  },
  {
   "cell_type": "code",
   "execution_count": 132,
   "id": "1e04f242-9d38-4220-a18c-1028fd32c956",
   "metadata": {},
   "outputs": [
    {
     "name": "stdout",
     "output_type": "stream",
     "text": [
      "todays temperature is between{:+} and {:+} degree celcious\n"
     ]
    }
   ],
   "source": [
    "str = 'todays temperature is between{:+} and {:+} degree celcious'\n",
    "\n",
    "print(str)"
   ]
  },
  {
   "cell_type": "code",
   "execution_count": 138,
   "id": "7eeca8a6-7828-427d-ace7-c48cf01282b8",
   "metadata": {},
   "outputs": [
    {
     "name": "stdout",
     "output_type": "stream",
     "text": [
      "todays temperature is between-5 and +10 degree celcious\n"
     ]
    }
   ],
   "source": [
    "print(f'{str}'.format(-5,10))"
   ]
  },
  {
   "cell_type": "markdown",
   "id": "b8576c2b-06d7-4a6e-9596-18f299f38973",
   "metadata": {},
   "source": [
    "### Use \",\" to add a comma as a thousand separator"
   ]
  },
  {
   "cell_type": "code",
   "execution_count": 160,
   "id": "4aeb2718-fb24-4998-a1b3-c34df95b62f7",
   "metadata": {},
   "outputs": [
    {
     "name": "stdout",
     "output_type": "stream",
     "text": [
      "the universe is {:,} years old\n"
     ]
    }
   ],
   "source": [
    "str = 'the universe is {:,} years old'\n",
    "print(str)"
   ]
  },
  {
   "cell_type": "code",
   "execution_count": 166,
   "id": "cf77766a-b4e7-4c40-8da1-f0a971166854",
   "metadata": {},
   "outputs": [
    {
     "name": "stdout",
     "output_type": "stream",
     "text": [
      "the universe is 1,380,000,000 years old\n"
     ]
    }
   ],
   "source": [
    "print(f'{str}'.format(1380000000))"
   ]
  },
  {
   "cell_type": "code",
   "execution_count": 186,
   "id": "23082bdc-9124-4b2a-8962-f38f3b1ad348",
   "metadata": {},
   "outputs": [
    {
     "name": "stdout",
     "output_type": "stream",
     "text": [
      "only {price:f} dollers\n"
     ]
    }
   ],
   "source": [
    "str1 = 'only {price:f} dollers'\n",
    "print(str1)"
   ]
  },
  {
   "cell_type": "code",
   "execution_count": 190,
   "id": "879976fd-28e3-4bfd-9098-4c9e44c0ebec",
   "metadata": {},
   "outputs": [
    {
     "name": "stdout",
     "output_type": "stream",
     "text": [
      "only 20.000000 dollers\n"
     ]
    }
   ],
   "source": [
    "print(f'{str1}'.format(price = 20))\n"
   ]
  },
  {
   "cell_type": "markdown",
   "id": "801d192c-1e13-4716-bae4-3f099e9e5861",
   "metadata": {},
   "source": [
    "### Use \"%\" to convert the number into a percentage format"
   ]
  },
  {
   "cell_type": "code",
   "execution_count": 202,
   "id": "e19ad325-ad54-4e6e-9fdb-30ad83849c98",
   "metadata": {},
   "outputs": [
    {
     "name": "stdout",
     "output_type": "stream",
     "text": [
      "you scored {:%}\n"
     ]
    }
   ],
   "source": [
    "str = 'you scored {:%}'\n",
    "print(str)"
   ]
  },
  {
   "cell_type": "code",
   "execution_count": 208,
   "id": "4691daf0-c6db-4fb3-aa73-e14a713e13fb",
   "metadata": {},
   "outputs": [
    {
     "name": "stdout",
     "output_type": "stream",
     "text": [
      "you scored 25.000000%\n"
     ]
    }
   ],
   "source": [
    "print(f'{str}'.format(.25))"
   ]
  },
  {
   "cell_type": "code",
   "execution_count": null,
   "id": "6c65c0da-9505-4e2d-a141-a7e9104ff834",
   "metadata": {},
   "outputs": [],
   "source": []
  },
  {
   "cell_type": "markdown",
   "id": "4395c175-db75-492b-8c41-f7a0f32f0ea2",
   "metadata": {},
   "source": [
    "# Index()"
   ]
  },
  {
   "cell_type": "code",
   "execution_count": 215,
   "id": "5e5bb578-4410-46e0-b5f8-06e51adc7290",
   "metadata": {},
   "outputs": [
    {
     "name": "stdout",
     "output_type": "stream",
     "text": [
      "India is the most beautiful country \n"
     ]
    }
   ],
   "source": [
    "str = 'India is the most beautiful country '\n",
    "\n",
    "print(str)"
   ]
  },
  {
   "cell_type": "code",
   "execution_count": 221,
   "id": "e238621b-8615-42bc-b64c-c4260010e5e0",
   "metadata": {},
   "outputs": [
    {
     "name": "stdout",
     "output_type": "stream",
     "text": [
      "13\n"
     ]
    }
   ],
   "source": [
    "print(f'{str}'.index('most'))"
   ]
  },
  {
   "cell_type": "markdown",
   "id": "ffed52fb-ac2f-4a8d-be28-a898f7056d9f",
   "metadata": {},
   "source": [
    "# isalnum()"
   ]
  },
  {
   "cell_type": "code",
   "execution_count": 227,
   "id": "3cbd024c-c7f3-411e-98f4-79a0fc469cce",
   "metadata": {},
   "outputs": [
    {
     "name": "stdout",
     "output_type": "stream",
     "text": [
      "DA6\n"
     ]
    }
   ],
   "source": [
    "statement = 'DA6'\n",
    "print(statement)"
   ]
  },
  {
   "cell_type": "code",
   "execution_count": 229,
   "id": "97ceb744-7dd8-482d-94db-daed940fe73c",
   "metadata": {},
   "outputs": [
    {
     "name": "stdout",
     "output_type": "stream",
     "text": [
      "True\n"
     ]
    }
   ],
   "source": [
    "print(f'{statement}'.isalnum())"
   ]
  },
  {
   "cell_type": "code",
   "execution_count": 233,
   "id": "a75666bd-ae09-421d-b118-8969724b19c7",
   "metadata": {},
   "outputs": [
    {
     "name": "stdout",
     "output_type": "stream",
     "text": [
      "Data analytics\n"
     ]
    }
   ],
   "source": [
    "statement1 = 'Data analytics'\n",
    "print(statement1)"
   ]
  },
  {
   "cell_type": "code",
   "execution_count": 235,
   "id": "d038901e-f0c8-4c64-9983-5114074894cf",
   "metadata": {},
   "outputs": [
    {
     "name": "stdout",
     "output_type": "stream",
     "text": [
      "False\n"
     ]
    }
   ],
   "source": [
    "print(f'{statement1}'.isalnum())"
   ]
  },
  {
   "cell_type": "code",
   "execution_count": null,
   "id": "6c65aa1d-0bfc-46fa-bbca-013b82f222f9",
   "metadata": {},
   "outputs": [],
   "source": []
  },
  {
   "cell_type": "markdown",
   "id": "20c9fc3d-d8fc-4241-8196-13ce829c5e45",
   "metadata": {},
   "source": [
    "# isalpha"
   ]
  },
  {
   "cell_type": "code",
   "execution_count": 245,
   "id": "79ce13f9-cce1-4cee-abbd-4712aa6cbb45",
   "metadata": {},
   "outputs": [
    {
     "name": "stdout",
     "output_type": "stream",
     "text": [
      "ARCDA\n"
     ]
    }
   ],
   "source": [
    "str = 'ARCDA'\n",
    "\n",
    "print(str)"
   ]
  },
  {
   "cell_type": "code",
   "execution_count": 249,
   "id": "05cee9b6-77c0-416c-a5bd-d47abf5958c1",
   "metadata": {},
   "outputs": [
    {
     "name": "stdout",
     "output_type": "stream",
     "text": [
      "True\n"
     ]
    }
   ],
   "source": [
    "print(f'{str}'.isalpha())"
   ]
  },
  {
   "cell_type": "markdown",
   "id": "36f9f9f4-3eae-4e79-afed-48c10ea55850",
   "metadata": {},
   "source": [
    "str1 = 'ARC DA'\n",
    "\n",
    "print(str1)"
   ]
  },
  {
   "cell_type": "code",
   "execution_count": 257,
   "id": "29188a38-94cb-43e7-901b-d3e06e18eb41",
   "metadata": {},
   "outputs": [
    {
     "name": "stdout",
     "output_type": "stream",
     "text": [
      "False\n"
     ]
    }
   ],
   "source": [
    "print(f'{str1}'.isalpha())"
   ]
  },
  {
   "cell_type": "code",
   "execution_count": 261,
   "id": "d962a431-e6c2-4c3e-8613-f55db13ae125",
   "metadata": {},
   "outputs": [
    {
     "name": "stdout",
     "output_type": "stream",
     "text": [
      "ARCDA6\n"
     ]
    }
   ],
   "source": [
    "str2 = 'ARCDA6'\n",
    "\n",
    "print(str2)"
   ]
  },
  {
   "cell_type": "code",
   "execution_count": 265,
   "id": "4d691d7d-02e7-4fdb-bb4a-46a2b7d70e41",
   "metadata": {},
   "outputs": [
    {
     "name": "stdout",
     "output_type": "stream",
     "text": [
      "False\n"
     ]
    }
   ],
   "source": [
    "print(f'{str2}'.isalpha())"
   ]
  },
  {
   "cell_type": "code",
   "execution_count": null,
   "id": "2fc1e2cf-e50f-49f7-b560-2ddb6112eabd",
   "metadata": {},
   "outputs": [],
   "source": []
  },
  {
   "cell_type": "markdown",
   "id": "ea52d0c0-5b78-4781-a4ee-c7d3b74d921e",
   "metadata": {},
   "source": [
    "# isascii()"
   ]
  },
  {
   "cell_type": "code",
   "execution_count": 272,
   "id": "3b7f4bfa-feb6-482b-a971-78ecdbca2b3b",
   "metadata": {},
   "outputs": [
    {
     "name": "stdout",
     "output_type": "stream",
     "text": [
      "age24\n"
     ]
    }
   ],
   "source": [
    "str ='age24'\n",
    "\n",
    "print(str)"
   ]
  },
  {
   "cell_type": "code",
   "execution_count": 276,
   "id": "efbf03e8-e6a1-4234-8b62-ebbea0222b3a",
   "metadata": {},
   "outputs": [
    {
     "name": "stdout",
     "output_type": "stream",
     "text": [
      "True\n"
     ]
    }
   ],
   "source": [
    "print(f'{str}'.isascii())"
   ]
  },
  {
   "cell_type": "code",
   "execution_count": 280,
   "id": "f9cebd7a-0dfa-43d9-98c5-a18b5d6a160e",
   "metadata": {},
   "outputs": [
    {
     "name": "stdout",
     "output_type": "stream",
     "text": [
      "age 24\n"
     ]
    }
   ],
   "source": [
    "str2 ='age 24'\n",
    "\n",
    "print(str2)"
   ]
  },
  {
   "cell_type": "code",
   "execution_count": 551,
   "id": "71362432-8ffa-46ff-87de-04fabde9dae0",
   "metadata": {},
   "outputs": [
    {
     "name": "stdout",
     "output_type": "stream",
     "text": [
      "True\n"
     ]
    }
   ],
   "source": [
    "print(f'{str2}'.isascii())"
   ]
  },
  {
   "cell_type": "code",
   "execution_count": null,
   "id": "805e96d6-5de7-414c-a0a3-d8ab7453ed17",
   "metadata": {},
   "outputs": [],
   "source": []
  },
  {
   "cell_type": "markdown",
   "id": "064576b3-c982-40c6-a934-b14fbf1ba33d",
   "metadata": {},
   "source": [
    "# isdecimal"
   ]
  },
  {
   "cell_type": "code",
   "execution_count": 291,
   "id": "430cac9c-d086-4445-8ff9-4f1da1982f10",
   "metadata": {},
   "outputs": [
    {
     "name": "stdout",
     "output_type": "stream",
     "text": [
      "56443\n"
     ]
    }
   ],
   "source": [
    "str = '56443'\n",
    "print(str)"
   ]
  },
  {
   "cell_type": "code",
   "execution_count": 293,
   "id": "8ca0d3a6-7043-494b-8130-59dceb530b3f",
   "metadata": {},
   "outputs": [
    {
     "name": "stdout",
     "output_type": "stream",
     "text": [
      "True\n"
     ]
    }
   ],
   "source": [
    "print(f'{str}'.isdecimal())"
   ]
  },
  {
   "cell_type": "code",
   "execution_count": null,
   "id": "4d02ce37-95a7-485d-a218-3f342a13456c",
   "metadata": {},
   "outputs": [],
   "source": []
  },
  {
   "cell_type": "markdown",
   "id": "7f060cca-7c9f-4f7b-9a9d-89b05c76044d",
   "metadata": {},
   "source": [
    "# isdigit()"
   ]
  },
  {
   "cell_type": "code",
   "execution_count": 299,
   "id": "90ff32fb-5b2f-4d6b-bee3-f90aa7b9b10e",
   "metadata": {},
   "outputs": [
    {
     "name": "stdout",
     "output_type": "stream",
     "text": [
      "5678864\n"
     ]
    }
   ],
   "source": [
    "str = '5678864'\n",
    "print(str)"
   ]
  },
  {
   "cell_type": "code",
   "execution_count": 303,
   "id": "d16060bf-65b0-477b-ae7e-e4c9e24ea7bb",
   "metadata": {},
   "outputs": [
    {
     "name": "stdout",
     "output_type": "stream",
     "text": [
      "True\n"
     ]
    }
   ],
   "source": [
    "print(f'{str}'.isdigit())"
   ]
  },
  {
   "cell_type": "code",
   "execution_count": null,
   "id": "102b9005-43e4-45a2-b346-bfeef1de4031",
   "metadata": {},
   "outputs": [],
   "source": []
  },
  {
   "cell_type": "markdown",
   "id": "ac354573-6c39-47ca-8a17-2af1ecda467f",
   "metadata": {},
   "source": [
    "# isidentifier()"
   ]
  },
  {
   "cell_type": "code",
   "execution_count": 324,
   "id": "d8ea7626-13f3-46af-859f-a1bdf3f0d8a9",
   "metadata": {},
   "outputs": [
    {
     "name": "stdout",
     "output_type": "stream",
     "text": [
      "Mayuri\n"
     ]
    }
   ],
   "source": [
    "str = 'Mayuri'\n",
    "print(str)"
   ]
  },
  {
   "cell_type": "code",
   "execution_count": 330,
   "id": "ed994087-239b-4b7a-b782-4b7dd7ffc3de",
   "metadata": {},
   "outputs": [
    {
     "name": "stdout",
     "output_type": "stream",
     "text": [
      "True\n"
     ]
    }
   ],
   "source": [
    "print(f'{str}'.isidentifier())"
   ]
  },
  {
   "cell_type": "code",
   "execution_count": 318,
   "id": "c90a8934-2025-4cfd-b722-c1754d967ec7",
   "metadata": {},
   "outputs": [
    {
     "name": "stdout",
     "output_type": "stream",
     "text": [
      "mayuri\n"
     ]
    }
   ],
   "source": [
    "str2 = 'my name is mayuri'\n",
    "print(str)"
   ]
  },
  {
   "cell_type": "code",
   "execution_count": 334,
   "id": "0475eada-bacd-4aea-9c3a-7582d99a0f1d",
   "metadata": {},
   "outputs": [
    {
     "name": "stdout",
     "output_type": "stream",
     "text": [
      "False\n"
     ]
    }
   ],
   "source": [
    "print(f'{str2}'.isidentifier())"
   ]
  },
  {
   "cell_type": "code",
   "execution_count": null,
   "id": "741f29b6-6964-4bd3-8752-6bb2ca54b1cf",
   "metadata": {},
   "outputs": [],
   "source": []
  },
  {
   "cell_type": "markdown",
   "id": "8208e820-d2a2-4e7e-9791-f192660eded3",
   "metadata": {},
   "source": [
    "# islower()"
   ]
  },
  {
   "cell_type": "code",
   "execution_count": 341,
   "id": "8f79299e-c42e-434a-afa2-1bca719e2711",
   "metadata": {},
   "outputs": [
    {
     "name": "stdout",
     "output_type": "stream",
     "text": [
      "hi nagpur\n"
     ]
    }
   ],
   "source": [
    "str = 'hi nagpur'\n",
    "print(str)"
   ]
  },
  {
   "cell_type": "code",
   "execution_count": 350,
   "id": "c23da4da-8e4a-464e-ab6f-0a6404a064b3",
   "metadata": {},
   "outputs": [
    {
     "name": "stdout",
     "output_type": "stream",
     "text": [
      "True\n"
     ]
    }
   ],
   "source": [
    "print(f'{str}'.islower())"
   ]
  },
  {
   "cell_type": "code",
   "execution_count": null,
   "id": "02c88247-3e8e-45fd-90b2-96b3191dddbe",
   "metadata": {},
   "outputs": [],
   "source": []
  },
  {
   "cell_type": "markdown",
   "id": "04c7f62e-58f6-40c8-849f-d02a26512b2a",
   "metadata": {},
   "source": [
    "# isnumeric()"
   ]
  },
  {
   "cell_type": "code",
   "execution_count": 357,
   "id": "95810cf1-8006-4d81-bd0f-6a4bcd6d1697",
   "metadata": {},
   "outputs": [
    {
     "name": "stdout",
     "output_type": "stream",
     "text": [
      "12042000\n"
     ]
    }
   ],
   "source": [
    "statement = '12042000'\n",
    "print(statement)"
   ]
  },
  {
   "cell_type": "code",
   "execution_count": 361,
   "id": "02059b4e-929d-4113-b78f-baeab6f16c5b",
   "metadata": {},
   "outputs": [
    {
     "name": "stdout",
     "output_type": "stream",
     "text": [
      "True\n"
     ]
    }
   ],
   "source": [
    "print(f'{statement}'.isnumeric())"
   ]
  },
  {
   "cell_type": "code",
   "execution_count": null,
   "id": "ef662e06-d9c9-4800-aad9-466883eca553",
   "metadata": {},
   "outputs": [],
   "source": []
  },
  {
   "cell_type": "markdown",
   "id": "d0c4951f-0470-4fe2-b682-0890f49ed68a",
   "metadata": {},
   "source": [
    "# isprintable()"
   ]
  },
  {
   "cell_type": "code",
   "execution_count": 368,
   "id": "53542ece-1352-4095-8d8d-78db8ec832f7",
   "metadata": {},
   "outputs": [
    {
     "name": "stdout",
     "output_type": "stream",
     "text": [
      "Hello! Are you #1?\n"
     ]
    }
   ],
   "source": [
    "str = 'Hello! Are you #1?'\n",
    "print(str)"
   ]
  },
  {
   "cell_type": "code",
   "execution_count": 377,
   "id": "d23717f5-e99c-4350-9615-815e45931dd2",
   "metadata": {},
   "outputs": [
    {
     "name": "stdout",
     "output_type": "stream",
     "text": [
      "True\n"
     ]
    }
   ],
   "source": [
    "print(f'{str}'.isprintable())"
   ]
  },
  {
   "cell_type": "code",
   "execution_count": 385,
   "id": "a579db77-6ebc-473c-990b-13fa089b73a1",
   "metadata": {},
   "outputs": [
    {
     "name": "stdout",
     "output_type": "stream",
     "text": [
      "India\n"
     ]
    }
   ],
   "source": [
    "str1 = 'India'\n",
    "print(str1)"
   ]
  },
  {
   "cell_type": "code",
   "execution_count": 389,
   "id": "54824c00-9d4e-4450-bdfc-bd1d49201602",
   "metadata": {},
   "outputs": [
    {
     "name": "stdout",
     "output_type": "stream",
     "text": [
      "True\n"
     ]
    }
   ],
   "source": [
    "print(f'{str1}'.isprintable())"
   ]
  },
  {
   "cell_type": "code",
   "execution_count": null,
   "id": "041b8391-b3c8-45df-b760-ec3da262f2d8",
   "metadata": {},
   "outputs": [],
   "source": []
  },
  {
   "cell_type": "markdown",
   "id": "c4c60d4f-b726-443f-a17f-01aff7af198a",
   "metadata": {},
   "source": [
    "# isspace()"
   ]
  },
  {
   "cell_type": "code",
   "execution_count": 397,
   "id": "5aafcdca-97d5-489f-9bca-6e4b57c3891e",
   "metadata": {},
   "outputs": [
    {
     "name": "stdout",
     "output_type": "stream",
     "text": [
      "     \n"
     ]
    }
   ],
   "source": [
    "str = '     '\n",
    "print(str)"
   ]
  },
  {
   "cell_type": "code",
   "execution_count": 401,
   "id": "5ba6f26c-3cdc-40d6-b6b2-212265b4b631",
   "metadata": {},
   "outputs": [
    {
     "name": "stdout",
     "output_type": "stream",
     "text": [
      "True\n"
     ]
    }
   ],
   "source": [
    "print(f'{str}'.isspace())"
   ]
  },
  {
   "cell_type": "code",
   "execution_count": 405,
   "id": "1a64032f-142d-4708-a70c-57fb499f596c",
   "metadata": {},
   "outputs": [
    {
     "name": "stdout",
     "output_type": "stream",
     "text": [
      "  f   \n"
     ]
    }
   ],
   "source": [
    "str1 = '  f   '\n",
    "print(str1)"
   ]
  },
  {
   "cell_type": "code",
   "execution_count": 409,
   "id": "005f5484-b6ac-4768-8feb-e5442e9a3da0",
   "metadata": {},
   "outputs": [
    {
     "name": "stdout",
     "output_type": "stream",
     "text": [
      "False\n"
     ]
    }
   ],
   "source": [
    "print(f'{str1}'.isspace())"
   ]
  },
  {
   "cell_type": "code",
   "execution_count": null,
   "id": "5f7cfb66-68a0-44ed-bf74-cac9ebb59eab",
   "metadata": {},
   "outputs": [],
   "source": []
  },
  {
   "cell_type": "markdown",
   "id": "bfe40d77-e2e1-4cdb-b0b4-ed93446a1be2",
   "metadata": {},
   "source": [
    "# istitle()"
   ]
  },
  {
   "cell_type": "code",
   "execution_count": 428,
   "id": "b0eb49e8-12e9-42b5-a1f4-c94515bdc5b1",
   "metadata": {},
   "outputs": [
    {
     "name": "stdout",
     "output_type": "stream",
     "text": [
      "Hello,And Welcome To The Class\n"
     ]
    }
   ],
   "source": [
    "txt = 'Hello,And Welcome To The Class'\n",
    "print(txt)"
   ]
  },
  {
   "cell_type": "code",
   "execution_count": 432,
   "id": "e396f226-081c-4990-a262-45fb94d48db0",
   "metadata": {},
   "outputs": [
    {
     "name": "stdout",
     "output_type": "stream",
     "text": [
      "True\n"
     ]
    }
   ],
   "source": [
    "print(f'{txt}'.istitle())"
   ]
  },
  {
   "cell_type": "code",
   "execution_count": 434,
   "id": "9c68ccbb-2380-4b51-ab75-38292e4b4271",
   "metadata": {},
   "outputs": [
    {
     "name": "stdout",
     "output_type": "stream",
     "text": [
      "Hello students, Welcome To The Class\n"
     ]
    }
   ],
   "source": [
    "txt = 'Hello students, Welcome To The Class'\n",
    "print(txt)"
   ]
  },
  {
   "cell_type": "code",
   "execution_count": 438,
   "id": "686b060b-89f1-4557-ae09-2acb329ce5dd",
   "metadata": {},
   "outputs": [
    {
     "name": "stdout",
     "output_type": "stream",
     "text": [
      "False\n"
     ]
    }
   ],
   "source": [
    "print(f'{txt}'.istitle())"
   ]
  },
  {
   "cell_type": "code",
   "execution_count": null,
   "id": "ccccb4e3-8b88-41b8-bfc5-0c737208234a",
   "metadata": {},
   "outputs": [],
   "source": []
  },
  {
   "cell_type": "markdown",
   "id": "f4185124-4461-4af5-8f59-ed3bbc27865f",
   "metadata": {},
   "source": [
    "# isupper()"
   ]
  },
  {
   "cell_type": "code",
   "execution_count": 445,
   "id": "14f662ca-2355-46f2-8f59-9737b862817b",
   "metadata": {},
   "outputs": [
    {
     "name": "stdout",
     "output_type": "stream",
     "text": [
      "INDIANS IS THE BEST\n"
     ]
    }
   ],
   "source": [
    "txt = 'INDIANS IS THE BEST'\n",
    "print(txt)"
   ]
  },
  {
   "cell_type": "code",
   "execution_count": 451,
   "id": "ea22e797-b36d-4b73-887e-1ab4eb09a6cb",
   "metadata": {},
   "outputs": [
    {
     "name": "stdout",
     "output_type": "stream",
     "text": [
      "True\n"
     ]
    }
   ],
   "source": [
    "print(f'{txt}'.isupper())"
   ]
  },
  {
   "cell_type": "code",
   "execution_count": null,
   "id": "1682772d-cc09-41fa-92f5-822c851b2e47",
   "metadata": {},
   "outputs": [],
   "source": []
  },
  {
   "cell_type": "markdown",
   "id": "ffab9c71-2ae4-48fa-9cc5-3e50f7db3f82",
   "metadata": {},
   "source": [
    "# join()"
   ]
  },
  {
   "cell_type": "code",
   "execution_count": 459,
   "id": "4ea767c2-af55-4023-a378-e25df52c12b1",
   "metadata": {},
   "outputs": [
    {
     "name": "stdout",
     "output_type": "stream",
     "text": [
      "('Rainy', 'Summer', 'Winter')\n"
     ]
    }
   ],
   "source": [
    "statement = ('Rainy','Summer','Winter')\n",
    "print(statement)"
   ]
  },
  {
   "cell_type": "code",
   "execution_count": 478,
   "id": "5002d610-1f75-4ccf-9761-253897a30f7a",
   "metadata": {},
   "outputs": [
    {
     "name": "stdout",
     "output_type": "stream",
     "text": [
      "Rainy Summer Winter\n"
     ]
    }
   ],
   "source": [
    "str=' '.join(statement)\n",
    "\n",
    "print(f'{str}')"
   ]
  },
  {
   "cell_type": "code",
   "execution_count": null,
   "id": "74c23f33-7c01-41e7-9120-074b0eedad59",
   "metadata": {},
   "outputs": [],
   "source": []
  },
  {
   "cell_type": "markdown",
   "id": "fb7be2c5-a2ae-4f66-8e63-a7b70b9f5232",
   "metadata": {},
   "source": [
    "# ljust()"
   ]
  },
  {
   "cell_type": "code",
   "execution_count": 490,
   "id": "a3dfc8f0-fc3d-48c9-ae4b-14d1ea2b2e1e",
   "metadata": {},
   "outputs": [
    {
     "name": "stdout",
     "output_type": "stream",
     "text": [
      "Mahabaleshwar\n"
     ]
    }
   ],
   "source": [
    "txt = 'Mahabaleshwar'\n",
    "print(txt)"
   ]
  },
  {
   "cell_type": "code",
   "execution_count": 500,
   "id": "4cf070d5-c9f2-489c-9514-e3b049fb1386",
   "metadata": {},
   "outputs": [
    {
     "name": "stdout",
     "output_type": "stream",
     "text": [
      "Mahabaleshwar is the best tourist place\n"
     ]
    }
   ],
   "source": [
    "str = txt.ljust(10)\n",
    "\n",
    "print(str,'is the best tourist place')"
   ]
  },
  {
   "cell_type": "code",
   "execution_count": null,
   "id": "41e39d5b-9c08-46a4-93f0-05d9433334b3",
   "metadata": {},
   "outputs": [],
   "source": []
  },
  {
   "cell_type": "markdown",
   "id": "b246aa61-11fc-406d-8f66-7f7621a33066",
   "metadata": {},
   "source": [
    "# lower()"
   ]
  },
  {
   "cell_type": "code",
   "execution_count": 507,
   "id": "9451e7b5-0b37-4156-b91d-aea02bfb07e2",
   "metadata": {},
   "outputs": [
    {
     "name": "stdout",
     "output_type": "stream",
     "text": [
      "Mango is the best fruit\n"
     ]
    }
   ],
   "source": [
    "txt = 'Mango is the best fruit'\n",
    "print(txt)"
   ]
  },
  {
   "cell_type": "code",
   "execution_count": 515,
   "id": "6e2b632c-1522-439c-8717-17214626e953",
   "metadata": {},
   "outputs": [
    {
     "name": "stdout",
     "output_type": "stream",
     "text": [
      "mango is the best fruit\n"
     ]
    }
   ],
   "source": [
    "print(f'{txt}'.lower())"
   ]
  },
  {
   "cell_type": "code",
   "execution_count": null,
   "id": "594cad09-8491-46d7-8df7-94a82e589676",
   "metadata": {},
   "outputs": [],
   "source": []
  },
  {
   "cell_type": "markdown",
   "id": "d2046f95-12d5-4d98-a006-d5d02cbf266a",
   "metadata": {},
   "source": [
    "# lstrip()"
   ]
  },
  {
   "cell_type": "code",
   "execution_count": 542,
   "id": "dd2bb688-6382-4c16-9502-cb3280ecd010",
   "metadata": {},
   "outputs": [
    {
     "name": "stdout",
     "output_type": "stream",
     "text": [
      " mango \n"
     ]
    }
   ],
   "source": [
    "str = ' mango '\n",
    "print(str)"
   ]
  },
  {
   "cell_type": "code",
   "execution_count": 546,
   "id": "c87646b2-91fd-4498-9a41-f397769085ca",
   "metadata": {},
   "outputs": [
    {
     "name": "stdout",
     "output_type": "stream",
     "text": [
      "east or west  mango  is best\n"
     ]
    }
   ],
   "source": [
    "str1 = str.lstrip()\n",
    "\n",
    "print('east or west',str,'is best')"
   ]
  },
  {
   "cell_type": "code",
   "execution_count": null,
   "id": "3d3d71b6-0b98-482e-a2be-b51f381000e6",
   "metadata": {},
   "outputs": [],
   "source": []
  },
  {
   "cell_type": "markdown",
   "id": "0124255e-cab5-4b48-8565-24cd583789c1",
   "metadata": {},
   "source": [
    "# maketrans()"
   ]
  },
  {
   "cell_type": "code",
   "execution_count": 621,
   "id": "c2d03e26-14e7-49bd-922c-a2f6bda9b5a6",
   "metadata": {},
   "outputs": [
    {
     "name": "stdout",
     "output_type": "stream",
     "text": [
      "put!\n"
     ]
    }
   ],
   "source": [
    "txt = 'cut!'\n",
    "x = 'cut'\n",
    "y = 'put'\n",
    "mytable = str.maketrans(x,y)\n",
    "print(txt.translate(mytable))"
   ]
  },
  {
   "cell_type": "code",
   "execution_count": 645,
   "id": "a602ee27-c66e-438b-9e17-8fee73a288f3",
   "metadata": {},
   "outputs": [
    {
     "name": "stdout",
     "output_type": "stream",
     "text": [
      "eight\n"
     ]
    }
   ],
   "source": [
    "txt = 'night'\n",
    "x = 'night'\n",
    "y = 'eight'\n",
    "mytable = str.maketrans(x,y)\n",
    "print(txt.translate(mytable))"
   ]
  },
  {
   "cell_type": "code",
   "execution_count": null,
   "id": "4c272d0e-feee-455d-b75a-0c909d55e258",
   "metadata": {},
   "outputs": [],
   "source": []
  },
  {
   "cell_type": "markdown",
   "id": "e9d5869f-e2f9-45f0-8502-26356c382b40",
   "metadata": {},
   "source": [
    "# partition()"
   ]
  },
  {
   "cell_type": "code",
   "execution_count": 652,
   "id": "ca8641b5-7cdb-406d-8ad4-ea6ae122643d",
   "metadata": {},
   "outputs": [
    {
     "name": "stdout",
     "output_type": "stream",
     "text": [
      "i could not study all day\n"
     ]
    }
   ],
   "source": [
    "str = 'i could not study all day'\n",
    "print(str)"
   ]
  },
  {
   "cell_type": "code",
   "execution_count": 660,
   "id": "a7c98c2a-e1db-49bb-aa31-c0aad497a04f",
   "metadata": {},
   "outputs": [
    {
     "name": "stdout",
     "output_type": "stream",
     "text": [
      "('i could not ', 'study', ' all day')\n"
     ]
    }
   ],
   "source": [
    "print(f'{str}'.partition('study'))"
   ]
  },
  {
   "cell_type": "code",
   "execution_count": null,
   "id": "db3cd0f5-5eaa-41cf-a3e0-6325afaf6e70",
   "metadata": {},
   "outputs": [],
   "source": []
  },
  {
   "cell_type": "markdown",
   "id": "9c46027f-7242-4346-88c5-99bfe7329e04",
   "metadata": {},
   "source": [
    "# rfind()"
   ]
  },
  {
   "cell_type": "code",
   "execution_count": 668,
   "id": "c2cad65c-4562-413b-86a8-7a3dda61bf17",
   "metadata": {},
   "outputs": [
    {
     "name": "stdout",
     "output_type": "stream",
     "text": [
      "Maharashtra is the richest state\n"
     ]
    }
   ],
   "source": [
    "str = 'Maharashtra is the richest state'\n",
    "print(str)"
   ]
  },
  {
   "cell_type": "code",
   "execution_count": 672,
   "id": "cce36835-af7c-4ac1-bb31-f2ab7e1897fc",
   "metadata": {},
   "outputs": [
    {
     "name": "stdout",
     "output_type": "stream",
     "text": [
      "27\n"
     ]
    }
   ],
   "source": [
    "print(f'{str}'.rfind('s'))"
   ]
  },
  {
   "cell_type": "code",
   "execution_count": null,
   "id": "ce901b1f-ea4c-4788-917e-4925bb517190",
   "metadata": {},
   "outputs": [],
   "source": []
  },
  {
   "cell_type": "markdown",
   "id": "ef092eaa-0b39-4498-9008-b4b64bf1cadc",
   "metadata": {},
   "source": [
    "# rindex()"
   ]
  },
  {
   "cell_type": "code",
   "execution_count": 688,
   "id": "7726c980-5f5f-42e1-84cb-7f8a44182fe1",
   "metadata": {},
   "outputs": [
    {
     "name": "stdout",
     "output_type": "stream",
     "text": [
      "Nagpur ia also called as orange city\n"
     ]
    }
   ],
   "source": [
    "str = 'Nagpur ia also called as orange city'\n",
    "print(str)"
   ]
  },
  {
   "cell_type": "code",
   "execution_count": 692,
   "id": "2643757a-3404-4bcc-a8bd-ab291262324c",
   "metadata": {},
   "outputs": [
    {
     "name": "stdout",
     "output_type": "stream",
     "text": [
      "26\n"
     ]
    }
   ],
   "source": [
    "print(f'{str}'.rindex('r'))"
   ]
  },
  {
   "cell_type": "code",
   "execution_count": null,
   "id": "6096a0b3-b395-4bb8-a7e3-6a6067cc93db",
   "metadata": {},
   "outputs": [],
   "source": []
  },
  {
   "cell_type": "markdown",
   "id": "9869f120-0976-4601-8163-aef5627596b0",
   "metadata": {},
   "source": [
    "# rjust()"
   ]
  },
  {
   "cell_type": "code",
   "execution_count": 719,
   "id": "55b4345c-ed8c-44b2-ab4f-68e25bebb98f",
   "metadata": {},
   "outputs": [
    {
     "name": "stdout",
     "output_type": "stream",
     "text": [
      "Arc \n"
     ]
    }
   ],
   "source": [
    "txt = 'Arc '\n",
    "print(txt)"
   ]
  },
  {
   "cell_type": "code",
   "execution_count": 725,
   "id": "d5980118-2a90-4b58-acbf-3dda405dc5e9",
   "metadata": {},
   "outputs": [
    {
     "name": "stdout",
     "output_type": "stream",
     "text": [
      "                Arc  technologies and institutions\n"
     ]
    }
   ],
   "source": [
    "str = txt.rjust(20)\n",
    "\n",
    "print(str,'technologies and institutions')"
   ]
  },
  {
   "cell_type": "code",
   "execution_count": null,
   "id": "d74974cc-d783-4144-9c18-f0dbf53e480f",
   "metadata": {},
   "outputs": [],
   "source": []
  },
  {
   "cell_type": "markdown",
   "id": "f9526c25-8fc5-49f6-ae71-194b5ce375b6",
   "metadata": {},
   "source": [
    "# rpartition()"
   ]
  },
  {
   "cell_type": "code",
   "execution_count": 733,
   "id": "d24a8ec5-ea21-4f6c-84fd-42d2063d5f41",
   "metadata": {},
   "outputs": [
    {
     "name": "stdout",
     "output_type": "stream",
     "text": [
      "i could eat mangoes all day,mango are my favorite fruit\n"
     ]
    }
   ],
   "source": [
    "str = 'i could eat mangoes all day,mango are my favorite fruit'\n",
    "print(str)"
   ]
  },
  {
   "cell_type": "code",
   "execution_count": 737,
   "id": "6dc25a1d-d4d7-4614-93cd-31bcfa35294f",
   "metadata": {},
   "outputs": [
    {
     "name": "stdout",
     "output_type": "stream",
     "text": [
      "('i could eat ', 'mangoes', ' all day,mango are my favorite fruit')\n"
     ]
    }
   ],
   "source": [
    "print(f'{str}'.rpartition('mangoes'))"
   ]
  },
  {
   "cell_type": "code",
   "execution_count": null,
   "id": "f627a9ea-e21f-4c91-85a3-645d6cf13cec",
   "metadata": {},
   "outputs": [],
   "source": []
  },
  {
   "cell_type": "markdown",
   "id": "fcaa5b60-92f2-451e-b196-ab48325311bd",
   "metadata": {},
   "source": [
    "# rsplit()"
   ]
  },
  {
   "cell_type": "code",
   "execution_count": 744,
   "id": "abb9e42e-ae9d-43b5-a35b-3131a1ba59eb",
   "metadata": {},
   "outputs": [
    {
     "name": "stdout",
     "output_type": "stream",
     "text": [
      "shorts,jeanse,leggins\n"
     ]
    }
   ],
   "source": [
    "str = 'shorts,jeanse,leggins'\n",
    "\n",
    "print(str)"
   ]
  },
  {
   "cell_type": "code",
   "execution_count": 752,
   "id": "459a7092-d99f-49f5-941c-f16a705a602a",
   "metadata": {},
   "outputs": [
    {
     "name": "stdout",
     "output_type": "stream",
     "text": [
      "['shorts', 'jeanse', 'leggins']\n"
     ]
    }
   ],
   "source": [
    "print(f'{str}'.rsplit(','))"
   ]
  },
  {
   "cell_type": "code",
   "execution_count": null,
   "id": "fc06f54b-75b8-4e2b-8506-8a190dfef51e",
   "metadata": {},
   "outputs": [],
   "source": []
  },
  {
   "cell_type": "markdown",
   "id": "d5f5d8e3-dd6d-4d93-8840-7c72add5ca71",
   "metadata": {},
   "source": [
    "# rstrip()"
   ]
  },
  {
   "cell_type": "code",
   "execution_count": 116,
   "id": "6cd07e83-0b3a-4665-8de0-65832af1cc0b",
   "metadata": {},
   "outputs": [
    {
     "name": "stdout",
     "output_type": "stream",
     "text": [
      "   India     \n"
     ]
    }
   ],
   "source": [
    "str = '   India     '\n",
    "\n",
    "print(str)"
   ]
  },
  {
   "cell_type": "code",
   "execution_count": 118,
   "id": "9fe1a118-601c-4b69-b26d-659095de1749",
   "metadata": {},
   "outputs": [
    {
     "name": "stdout",
     "output_type": "stream",
     "text": [
      "is a country    India is my favorite\n"
     ]
    }
   ],
   "source": [
    "txt = str.rstrip()\n",
    "\n",
    "print('is a country',txt,'is my favorite')"
   ]
  },
  {
   "cell_type": "code",
   "execution_count": null,
   "id": "d1dcd359-60c0-4d61-a455-93e2ac4c3c6a",
   "metadata": {},
   "outputs": [],
   "source": []
  },
  {
   "cell_type": "markdown",
   "id": "9431e1c6-0a6a-40e6-8c7c-aa10c26765ad",
   "metadata": {},
   "source": [
    "# split()"
   ]
  },
  {
   "cell_type": "code",
   "execution_count": 3,
   "id": "9d69127e-add5-4bed-ab0e-00ece9538593",
   "metadata": {},
   "outputs": [
    {
     "name": "stdout",
     "output_type": "stream",
     "text": [
      "welcome to the Arc institutions\n"
     ]
    }
   ],
   "source": [
    "str = 'welcome to the Arc institutions'\n",
    "print(str)"
   ]
  },
  {
   "cell_type": "code",
   "execution_count": 7,
   "id": "9f2f73af-aef0-43b3-8df6-f0e22059e6f5",
   "metadata": {},
   "outputs": [
    {
     "name": "stdout",
     "output_type": "stream",
     "text": [
      "['welcome', 'to', 'the', 'Arc', 'institutions']\n"
     ]
    }
   ],
   "source": [
    "print(f'{str}'.split())"
   ]
  },
  {
   "cell_type": "code",
   "execution_count": null,
   "id": "7c2b98c5-19aa-4242-9d77-d329cb87c9ed",
   "metadata": {},
   "outputs": [],
   "source": []
  },
  {
   "cell_type": "markdown",
   "id": "55ff850e-b39c-46a6-b8fb-3464cc4a8cc3",
   "metadata": {},
   "source": [
    "# splitlines()"
   ]
  },
  {
   "cell_type": "code",
   "execution_count": 112,
   "id": "e5cb462f-5264-49a1-aa2b-a0ca412be2e3",
   "metadata": {},
   "outputs": [
    {
     "name": "stdout",
     "output_type": "stream",
     "text": [
      "Arc is institute\\ I am a student\n"
     ]
    }
   ],
   "source": [
    "str = 'Arc is institute\\ I am a student'\n",
    "print(str)"
   ]
  },
  {
   "cell_type": "code",
   "execution_count": 114,
   "id": "2fa0d695-b8d4-4530-8040-1621ca9a433e",
   "metadata": {},
   "outputs": [
    {
     "name": "stdout",
     "output_type": "stream",
     "text": [
      "['Arc is institute\\\\ I am a student']\n"
     ]
    }
   ],
   "source": [
    "print(f'{str}'.splitlines(1))"
   ]
  },
  {
   "cell_type": "code",
   "execution_count": null,
   "id": "03b6277b-70f6-44fe-9d8b-9f9eb0c05ca8",
   "metadata": {},
   "outputs": [],
   "source": []
  },
  {
   "cell_type": "markdown",
   "id": "3fe7b15c-d80d-4a51-beae-704347cac5f7",
   "metadata": {},
   "source": [
    "# startswith()"
   ]
  },
  {
   "cell_type": "code",
   "execution_count": 102,
   "id": "0e910715-0d5b-41a9-a953-8ade1ecebedf",
   "metadata": {},
   "outputs": [
    {
     "name": "stdout",
     "output_type": "stream",
     "text": [
      "learn data analytics is best\n"
     ]
    }
   ],
   "source": [
    "str = 'learn data analytics is best'\n",
    "print(str)"
   ]
  },
  {
   "cell_type": "code",
   "execution_count": 104,
   "id": "60cd5260-9f85-4f63-aba1-2eb968847bea",
   "metadata": {},
   "outputs": [
    {
     "name": "stdout",
     "output_type": "stream",
     "text": [
      "True\n"
     ]
    }
   ],
   "source": [
    "print(f'{str}'.startswith('learn'))"
   ]
  },
  {
   "cell_type": "code",
   "execution_count": null,
   "id": "98b5e560-9ea4-4e19-89c1-820df0bbc774",
   "metadata": {},
   "outputs": [],
   "source": []
  },
  {
   "cell_type": "markdown",
   "id": "9e52c6b6-f282-4348-a455-9721a31f8205",
   "metadata": {},
   "source": [
    "# strip()"
   ]
  },
  {
   "cell_type": "code",
   "execution_count": 96,
   "id": "0eebf599-8cc5-4c20-9f8c-6adaab91d2c5",
   "metadata": {},
   "outputs": [
    {
     "name": "stdout",
     "output_type": "stream",
     "text": [
      "Green\n"
     ]
    }
   ],
   "source": [
    "str = 'Green'\n",
    "print(str)"
   ]
  },
  {
   "cell_type": "code",
   "execution_count": 100,
   "id": "0c00efb3-8ebf-42f4-a548-50c9dc56da65",
   "metadata": {},
   "outputs": [
    {
     "name": "stdout",
     "output_type": "stream",
     "text": [
      "vegetables is Green and my fvrt\n"
     ]
    }
   ],
   "source": [
    "txt = str.strip()\n",
    "\n",
    "print('vegetables is',str,'and my fvrt')"
   ]
  },
  {
   "cell_type": "code",
   "execution_count": null,
   "id": "7aa0d101-1a84-4293-af11-089cc5449cb0",
   "metadata": {},
   "outputs": [],
   "source": []
  },
  {
   "cell_type": "markdown",
   "id": "a555541c-0efc-46b6-8401-24b163bf672e",
   "metadata": {},
   "source": [
    "# swapcase()"
   ]
  },
  {
   "cell_type": "code",
   "execution_count": 92,
   "id": "ecd5ddf5-53bb-4bd3-8e91-06acab2340f4",
   "metadata": {},
   "outputs": [
    {
     "name": "stdout",
     "output_type": "stream",
     "text": [
      "Hi rohini this side\n"
     ]
    }
   ],
   "source": [
    "txt = 'Hi rohini this side'\n",
    "\n",
    "print(txt)"
   ]
  },
  {
   "cell_type": "code",
   "execution_count": 94,
   "id": "a5df3500-423b-40e7-82b8-ffc148246a5b",
   "metadata": {},
   "outputs": [
    {
     "name": "stdout",
     "output_type": "stream",
     "text": [
      "hI ROHINI THIS SIDE\n"
     ]
    }
   ],
   "source": [
    "print(f'{txt}'.swapcase())"
   ]
  },
  {
   "cell_type": "code",
   "execution_count": null,
   "id": "091fe45c-1e95-440c-9c75-ea4612025444",
   "metadata": {},
   "outputs": [],
   "source": []
  },
  {
   "cell_type": "markdown",
   "id": "3b7d262e-31f5-4e61-bc1e-8bcf18a65b5c",
   "metadata": {},
   "source": [
    "# title()"
   ]
  },
  {
   "cell_type": "code",
   "execution_count": 88,
   "id": "ae3194d7-4bc4-46c5-82c4-e042df9fdc5a",
   "metadata": {},
   "outputs": [
    {
     "name": "stdout",
     "output_type": "stream",
     "text": [
      "Welcome home\n"
     ]
    }
   ],
   "source": [
    "str = 'Welcome home'\n",
    "\n",
    "print(str)"
   ]
  },
  {
   "cell_type": "code",
   "execution_count": 90,
   "id": "660110e1-9377-4eb0-a8b3-ccfa839013b8",
   "metadata": {},
   "outputs": [
    {
     "name": "stdout",
     "output_type": "stream",
     "text": [
      "Welcome Home\n"
     ]
    }
   ],
   "source": [
    "print(f'{str}'.title())"
   ]
  },
  {
   "cell_type": "code",
   "execution_count": null,
   "id": "cb16a521-b888-4ece-ba03-83508feaba33",
   "metadata": {},
   "outputs": [],
   "source": []
  },
  {
   "cell_type": "markdown",
   "id": "a9633926-81c9-4b42-bb99-ed722adce3c4",
   "metadata": {},
   "source": [
    "# translate()"
   ]
  },
  {
   "cell_type": "code",
   "execution_count": null,
   "id": "64654200-d655-418a-b363-d6fde1432600",
   "metadata": {},
   "outputs": [],
   "source": []
  },
  {
   "cell_type": "code",
   "execution_count": 86,
   "id": "c56f6260-cbe5-48f4-a82d-9056ed923f11",
   "metadata": {},
   "outputs": [
    {
     "name": "stdout",
     "output_type": "stream",
     "text": [
      "Hi there\n"
     ]
    }
   ],
   "source": [
    "str = {83: 80}\n",
    "txt = 'Hi there'\n",
    "print(txt.translate(str))"
   ]
  },
  {
   "cell_type": "code",
   "execution_count": null,
   "id": "45b16a25-a89d-48f2-8d67-3a43f1305168",
   "metadata": {},
   "outputs": [],
   "source": [
    "\n"
   ]
  },
  {
   "cell_type": "markdown",
   "id": "c32753f1-f4aa-4420-866c-5c3edc0dbd4f",
   "metadata": {},
   "source": [
    "# upper()"
   ]
  },
  {
   "cell_type": "code",
   "execution_count": 82,
   "id": "c1c760a6-4f53-4d67-9a54-79ba546284b6",
   "metadata": {},
   "outputs": [
    {
     "name": "stdout",
     "output_type": "stream",
     "text": [
      "Hello everyone\n"
     ]
    }
   ],
   "source": [
    "str = 'Hello everyone'\n",
    "\n",
    "print(str)"
   ]
  },
  {
   "cell_type": "code",
   "execution_count": 84,
   "id": "54621240-a962-4509-bade-a1ebc210f37e",
   "metadata": {},
   "outputs": [
    {
     "name": "stdout",
     "output_type": "stream",
     "text": [
      "HELLO EVERYONE\n"
     ]
    }
   ],
   "source": [
    "print(f'{str}'.upper())"
   ]
  },
  {
   "cell_type": "code",
   "execution_count": null,
   "id": "3efd855f-1335-41d5-8996-25d2eea03c1f",
   "metadata": {},
   "outputs": [],
   "source": []
  },
  {
   "cell_type": "markdown",
   "id": "a477838f-df54-4689-8d55-bb137c24f791",
   "metadata": {},
   "source": [
    "# zfill()"
   ]
  },
  {
   "cell_type": "code",
   "execution_count": 78,
   "id": "337bd406-c35b-464f-a632-b00aa726fdec",
   "metadata": {},
   "outputs": [
    {
     "name": "stdout",
     "output_type": "stream",
     "text": [
      "60\n"
     ]
    }
   ],
   "source": [
    "str = '60'\n",
    "print(str)"
   ]
  },
  {
   "cell_type": "code",
   "execution_count": 80,
   "id": "612323ba-925d-4600-bf6a-c8b230e8feed",
   "metadata": {},
   "outputs": [
    {
     "name": "stdout",
     "output_type": "stream",
     "text": [
      "0000000060\n"
     ]
    }
   ],
   "source": [
    "print(f'{str}'.zfill(10))"
   ]
  },
  {
   "cell_type": "code",
   "execution_count": null,
   "id": "608e07bf-b670-4b38-aad6-a230b4b81cad",
   "metadata": {},
   "outputs": [],
   "source": []
  }
 ],
 "metadata": {
  "kernelspec": {
   "display_name": "Python 3 (ipykernel)",
   "language": "python",
   "name": "python3"
  },
  "language_info": {
   "codemirror_mode": {
    "name": "ipython",
    "version": 3
   },
   "file_extension": ".py",
   "mimetype": "text/x-python",
   "name": "python",
   "nbconvert_exporter": "python",
   "pygments_lexer": "ipython3",
   "version": "3.11.7"
  }
 },
 "nbformat": 4,
 "nbformat_minor": 5
}
